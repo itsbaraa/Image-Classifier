{
 "cells": [
  {
   "cell_type": "code",
   "execution_count": 1,
   "id": "9d6f0b84",
   "metadata": {},
   "outputs": [
    {
     "name": "stdout",
     "output_type": "stream",
     "text": [
      "1/1 [==============================] - 0s 337ms/step\n",
      "Class: Cats\n",
      "Confidence Score: 1.0\n"
     ]
    }
   ],
   "source": [
    "from keras.models import load_model\n",
    "from PIL import Image, ImageOps\n",
    "import numpy as np\n",
    "\n",
    "# Disable scientific notation for clarity\n",
    "np.set_printoptions(suppress=True)\n",
    "\n",
    "# Load the model\n",
    "model = load_model(\"keras_model.h5\", compile=False)\n",
    "\n",
    "# Load the labels\n",
    "class_names = open(\"labels.txt\", \"r\").readlines()\n",
    "\n",
    "# Create the array of the right shape to feed into the keras model\n",
    "# The 'length' or number of images you can put into the array is\n",
    "# determined by the first position in the shape tuple, in this case 1\n",
    "data = np.ndarray(shape=(1, 224, 224, 3), dtype=np.float32)\n",
    "\n",
    "# Replace this with the path to your image\n",
    "image = Image.open(\"test_set/test_set/cats/cat.4001.jpg\").convert(\"RGB\")\n",
    "\n",
    "# resizing the image to be at least 224x224 and then cropping from the center\n",
    "size = (224, 224)\n",
    "image = ImageOps.fit(image, size, Image.Resampling.LANCZOS)\n",
    "\n",
    "# turn the image into a numpy array\n",
    "image_array = np.asarray(image)\n",
    "\n",
    "# Normalize the image\n",
    "normalized_image_array = (image_array.astype(np.float32) / 127.5) - 1\n",
    "\n",
    "# Load the image into the array\n",
    "data[0] = normalized_image_array\n",
    "\n",
    "# Predicts the model\n",
    "prediction = model.predict(data)\n",
    "index = np.argmax(prediction)\n",
    "class_name = class_names[index]\n",
    "confidence_score = prediction[0][index]\n",
    "\n",
    "# Print prediction and confidence score\n",
    "print(\"Class:\", class_name[2:], end=\"\")\n",
    "print(\"Confidence Score:\", confidence_score)"
   ]
  },
  {
   "cell_type": "code",
   "execution_count": 2,
   "id": "4ec6d0f9",
   "metadata": {},
   "outputs": [
    {
     "name": "stdout",
     "output_type": "stream",
     "text": [
      "              precision    recall  f1-score   support\n",
      "\n",
      "        cats       0.97      0.97      0.97      1011\n",
      "        dogs       0.97      0.97      0.97      1012\n",
      "\n",
      "    accuracy                           0.97      2023\n",
      "   macro avg       0.97      0.97      0.97      2023\n",
      "weighted avg       0.97      0.97      0.97      2023\n",
      "\n"
     ]
    }
   ],
   "source": [
    "import os\n",
    "from sklearn.metrics import classification_report\n",
    "\n",
    "# Class names\n",
    "class_names = [\"cats\", \"dogs\"]\n",
    "\n",
    "# Paths\n",
    "base_path = \"test_set/test_set\"\n",
    "\n",
    "# True and predicted labels\n",
    "y_true = []\n",
    "y_pred = []\n",
    "\n",
    "# Evaluate loop\n",
    "for label_index, class_name in enumerate(class_names):\n",
    "    folder = f\"{base_path}/{class_name}\"\n",
    "    for file in os.listdir(folder):\n",
    "        if file.lower().endswith('.jpg'):\n",
    "            image_path = f\"{folder}/{file}\"\n",
    "            image = Image.open(image_path).convert(\"RGB\")\n",
    "            image = ImageOps.fit(image, (224, 224), Image.Resampling.LANCZOS)\n",
    "            image_array = np.asarray(image)\n",
    "            normalized_image_array = (image_array.astype(np.float32) / 127.5) - 1\n",
    "            data = np.ndarray(shape=(1, 224, 224, 3), dtype=np.float32)\n",
    "            data[0] = normalized_image_array\n",
    "\n",
    "            prediction = model.predict(data, verbose=0)\n",
    "            predicted_index = np.argmax(prediction)\n",
    "\n",
    "            y_true.append(label_index)\n",
    "            y_pred.append(predicted_index)\n",
    "\n",
    "# Show evaluation\n",
    "print(classification_report(y_true, y_pred, target_names=class_names))"
   ]
  }
 ],
 "metadata": {
  "kernelspec": {
   "display_name": "TeachableMachines",
   "language": "python",
   "name": "python3"
  },
  "language_info": {
   "codemirror_mode": {
    "name": "ipython",
    "version": 3
   },
   "file_extension": ".py",
   "mimetype": "text/x-python",
   "name": "python",
   "nbconvert_exporter": "python",
   "pygments_lexer": "ipython3",
   "version": "3.10.18"
  }
 },
 "nbformat": 4,
 "nbformat_minor": 5
}
